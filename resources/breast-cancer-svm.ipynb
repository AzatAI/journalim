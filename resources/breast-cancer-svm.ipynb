{
 "cells": [
  {
   "cell_type": "code",
   "execution_count": 1,
   "id": "4e1a9bb9",
   "metadata": {
    "_cell_guid": "b1076dfc-b9ad-4769-8c92-a6c4dae69d19",
    "_uuid": "8f2839f25d086af736a60e9eeb907d3b93b6e0e5",
    "execution": {
     "iopub.execute_input": "2022-11-23T14:15:58.701544Z",
     "iopub.status.busy": "2022-11-23T14:15:58.700973Z",
     "iopub.status.idle": "2022-11-23T14:15:58.726599Z",
     "shell.execute_reply": "2022-11-23T14:15:58.724171Z"
    },
    "papermill": {
     "duration": 0.039453,
     "end_time": "2022-11-23T14:15:58.731504",
     "exception": false,
     "start_time": "2022-11-23T14:15:58.692051",
     "status": "completed"
    },
    "tags": []
   },
   "outputs": [
    {
     "name": "stdout",
     "output_type": "stream",
     "text": [
      "/kaggle/input/breast-cancer-wisconsin-data/data.csv\n"
     ]
    }
   ],
   "source": [
    "# This Python 3 environment comes with many helpful analytics libraries installed\n",
    "# It is defined by the kaggle/python Docker image: https://github.com/kaggle/docker-python\n",
    "# For example, here's several helpful packages to load\n",
    "\n",
    "import numpy as np # linear algebra\n",
    "import pandas as pd # data processing, CSV file I/O (e.g. pd.read_csv)\n",
    "\n",
    "# Input data files are available in the read-only \"../input/\" directory\n",
    "# For example, running this (by clicking run or pressing Shift+Enter) will list all files under the input directory\n",
    "\n",
    "import os\n",
    "for dirname, _, filenames in os.walk('/kaggle/input'):\n",
    "    for filename in filenames:\n",
    "        print(os.path.join(dirname, filename))\n",
    "\n",
    "# You can write up to 20GB to the current directory (/kaggle/working/) that gets preserved as output when you create a version using \"Save & Run All\" \n",
    "# You can also write temporary files to /kaggle/temp/, but they won't be saved outside of the current session"
   ]
  },
  {
   "cell_type": "code",
   "execution_count": 2,
   "id": "abeb7f6e",
   "metadata": {
    "execution": {
     "iopub.execute_input": "2022-11-23T14:15:58.747325Z",
     "iopub.status.busy": "2022-11-23T14:15:58.746732Z",
     "iopub.status.idle": "2022-11-23T14:15:58.777475Z",
     "shell.execute_reply": "2022-11-23T14:15:58.776164Z"
    },
    "papermill": {
     "duration": 0.042272,
     "end_time": "2022-11-23T14:15:58.781384",
     "exception": false,
     "start_time": "2022-11-23T14:15:58.739112",
     "status": "completed"
    },
    "tags": []
   },
   "outputs": [
    {
     "data": {
      "text/plain": [
       "(569, 33)"
      ]
     },
     "execution_count": 2,
     "metadata": {},
     "output_type": "execute_result"
    }
   ],
   "source": [
    "path=r'/kaggle/input/breast-cancer-wisconsin-data/data.csv'\n",
    "initial_data=pd.read_csv(path)\n",
    "initial_data.shape"
   ]
  },
  {
   "cell_type": "code",
   "execution_count": 3,
   "id": "98989d5e",
   "metadata": {
    "execution": {
     "iopub.execute_input": "2022-11-23T14:15:58.795424Z",
     "iopub.status.busy": "2022-11-23T14:15:58.794189Z",
     "iopub.status.idle": "2022-11-23T14:15:58.848073Z",
     "shell.execute_reply": "2022-11-23T14:15:58.846385Z"
    },
    "papermill": {
     "duration": 0.064123,
     "end_time": "2022-11-23T14:15:58.851283",
     "exception": false,
     "start_time": "2022-11-23T14:15:58.787160",
     "status": "completed"
    },
    "tags": []
   },
   "outputs": [
    {
     "data": {
      "text/html": [
       "<div>\n",
       "<style scoped>\n",
       "    .dataframe tbody tr th:only-of-type {\n",
       "        vertical-align: middle;\n",
       "    }\n",
       "\n",
       "    .dataframe tbody tr th {\n",
       "        vertical-align: top;\n",
       "    }\n",
       "\n",
       "    .dataframe thead th {\n",
       "        text-align: right;\n",
       "    }\n",
       "</style>\n",
       "<table border=\"1\" class=\"dataframe\">\n",
       "  <thead>\n",
       "    <tr style=\"text-align: right;\">\n",
       "      <th></th>\n",
       "      <th>id</th>\n",
       "      <th>diagnosis</th>\n",
       "      <th>radius_mean</th>\n",
       "      <th>texture_mean</th>\n",
       "      <th>perimeter_mean</th>\n",
       "      <th>area_mean</th>\n",
       "      <th>smoothness_mean</th>\n",
       "      <th>compactness_mean</th>\n",
       "      <th>concavity_mean</th>\n",
       "      <th>concave points_mean</th>\n",
       "      <th>...</th>\n",
       "      <th>texture_worst</th>\n",
       "      <th>perimeter_worst</th>\n",
       "      <th>area_worst</th>\n",
       "      <th>smoothness_worst</th>\n",
       "      <th>compactness_worst</th>\n",
       "      <th>concavity_worst</th>\n",
       "      <th>concave points_worst</th>\n",
       "      <th>symmetry_worst</th>\n",
       "      <th>fractal_dimension_worst</th>\n",
       "      <th>Unnamed: 32</th>\n",
       "    </tr>\n",
       "  </thead>\n",
       "  <tbody>\n",
       "    <tr>\n",
       "      <th>0</th>\n",
       "      <td>842302</td>\n",
       "      <td>M</td>\n",
       "      <td>17.99</td>\n",
       "      <td>10.38</td>\n",
       "      <td>122.80</td>\n",
       "      <td>1001.0</td>\n",
       "      <td>0.11840</td>\n",
       "      <td>0.27760</td>\n",
       "      <td>0.3001</td>\n",
       "      <td>0.14710</td>\n",
       "      <td>...</td>\n",
       "      <td>17.33</td>\n",
       "      <td>184.60</td>\n",
       "      <td>2019.0</td>\n",
       "      <td>0.1622</td>\n",
       "      <td>0.6656</td>\n",
       "      <td>0.7119</td>\n",
       "      <td>0.2654</td>\n",
       "      <td>0.4601</td>\n",
       "      <td>0.11890</td>\n",
       "      <td>NaN</td>\n",
       "    </tr>\n",
       "    <tr>\n",
       "      <th>1</th>\n",
       "      <td>842517</td>\n",
       "      <td>M</td>\n",
       "      <td>20.57</td>\n",
       "      <td>17.77</td>\n",
       "      <td>132.90</td>\n",
       "      <td>1326.0</td>\n",
       "      <td>0.08474</td>\n",
       "      <td>0.07864</td>\n",
       "      <td>0.0869</td>\n",
       "      <td>0.07017</td>\n",
       "      <td>...</td>\n",
       "      <td>23.41</td>\n",
       "      <td>158.80</td>\n",
       "      <td>1956.0</td>\n",
       "      <td>0.1238</td>\n",
       "      <td>0.1866</td>\n",
       "      <td>0.2416</td>\n",
       "      <td>0.1860</td>\n",
       "      <td>0.2750</td>\n",
       "      <td>0.08902</td>\n",
       "      <td>NaN</td>\n",
       "    </tr>\n",
       "    <tr>\n",
       "      <th>2</th>\n",
       "      <td>84300903</td>\n",
       "      <td>M</td>\n",
       "      <td>19.69</td>\n",
       "      <td>21.25</td>\n",
       "      <td>130.00</td>\n",
       "      <td>1203.0</td>\n",
       "      <td>0.10960</td>\n",
       "      <td>0.15990</td>\n",
       "      <td>0.1974</td>\n",
       "      <td>0.12790</td>\n",
       "      <td>...</td>\n",
       "      <td>25.53</td>\n",
       "      <td>152.50</td>\n",
       "      <td>1709.0</td>\n",
       "      <td>0.1444</td>\n",
       "      <td>0.4245</td>\n",
       "      <td>0.4504</td>\n",
       "      <td>0.2430</td>\n",
       "      <td>0.3613</td>\n",
       "      <td>0.08758</td>\n",
       "      <td>NaN</td>\n",
       "    </tr>\n",
       "    <tr>\n",
       "      <th>3</th>\n",
       "      <td>84348301</td>\n",
       "      <td>M</td>\n",
       "      <td>11.42</td>\n",
       "      <td>20.38</td>\n",
       "      <td>77.58</td>\n",
       "      <td>386.1</td>\n",
       "      <td>0.14250</td>\n",
       "      <td>0.28390</td>\n",
       "      <td>0.2414</td>\n",
       "      <td>0.10520</td>\n",
       "      <td>...</td>\n",
       "      <td>26.50</td>\n",
       "      <td>98.87</td>\n",
       "      <td>567.7</td>\n",
       "      <td>0.2098</td>\n",
       "      <td>0.8663</td>\n",
       "      <td>0.6869</td>\n",
       "      <td>0.2575</td>\n",
       "      <td>0.6638</td>\n",
       "      <td>0.17300</td>\n",
       "      <td>NaN</td>\n",
       "    </tr>\n",
       "    <tr>\n",
       "      <th>4</th>\n",
       "      <td>84358402</td>\n",
       "      <td>M</td>\n",
       "      <td>20.29</td>\n",
       "      <td>14.34</td>\n",
       "      <td>135.10</td>\n",
       "      <td>1297.0</td>\n",
       "      <td>0.10030</td>\n",
       "      <td>0.13280</td>\n",
       "      <td>0.1980</td>\n",
       "      <td>0.10430</td>\n",
       "      <td>...</td>\n",
       "      <td>16.67</td>\n",
       "      <td>152.20</td>\n",
       "      <td>1575.0</td>\n",
       "      <td>0.1374</td>\n",
       "      <td>0.2050</td>\n",
       "      <td>0.4000</td>\n",
       "      <td>0.1625</td>\n",
       "      <td>0.2364</td>\n",
       "      <td>0.07678</td>\n",
       "      <td>NaN</td>\n",
       "    </tr>\n",
       "  </tbody>\n",
       "</table>\n",
       "<p>5 rows × 33 columns</p>\n",
       "</div>"
      ],
      "text/plain": [
       "         id diagnosis  radius_mean  texture_mean  perimeter_mean  area_mean  \\\n",
       "0    842302         M        17.99         10.38          122.80     1001.0   \n",
       "1    842517         M        20.57         17.77          132.90     1326.0   \n",
       "2  84300903         M        19.69         21.25          130.00     1203.0   \n",
       "3  84348301         M        11.42         20.38           77.58      386.1   \n",
       "4  84358402         M        20.29         14.34          135.10     1297.0   \n",
       "\n",
       "   smoothness_mean  compactness_mean  concavity_mean  concave points_mean  \\\n",
       "0          0.11840           0.27760          0.3001              0.14710   \n",
       "1          0.08474           0.07864          0.0869              0.07017   \n",
       "2          0.10960           0.15990          0.1974              0.12790   \n",
       "3          0.14250           0.28390          0.2414              0.10520   \n",
       "4          0.10030           0.13280          0.1980              0.10430   \n",
       "\n",
       "   ...  texture_worst  perimeter_worst  area_worst  smoothness_worst  \\\n",
       "0  ...          17.33           184.60      2019.0            0.1622   \n",
       "1  ...          23.41           158.80      1956.0            0.1238   \n",
       "2  ...          25.53           152.50      1709.0            0.1444   \n",
       "3  ...          26.50            98.87       567.7            0.2098   \n",
       "4  ...          16.67           152.20      1575.0            0.1374   \n",
       "\n",
       "   compactness_worst  concavity_worst  concave points_worst  symmetry_worst  \\\n",
       "0             0.6656           0.7119                0.2654          0.4601   \n",
       "1             0.1866           0.2416                0.1860          0.2750   \n",
       "2             0.4245           0.4504                0.2430          0.3613   \n",
       "3             0.8663           0.6869                0.2575          0.6638   \n",
       "4             0.2050           0.4000                0.1625          0.2364   \n",
       "\n",
       "   fractal_dimension_worst  Unnamed: 32  \n",
       "0                  0.11890          NaN  \n",
       "1                  0.08902          NaN  \n",
       "2                  0.08758          NaN  \n",
       "3                  0.17300          NaN  \n",
       "4                  0.07678          NaN  \n",
       "\n",
       "[5 rows x 33 columns]"
      ]
     },
     "execution_count": 3,
     "metadata": {},
     "output_type": "execute_result"
    }
   ],
   "source": [
    "initial_data.head()"
   ]
  },
  {
   "cell_type": "code",
   "execution_count": 4,
   "id": "1d0f3012",
   "metadata": {
    "execution": {
     "iopub.execute_input": "2022-11-23T14:15:58.868971Z",
     "iopub.status.busy": "2022-11-23T14:15:58.868484Z",
     "iopub.status.idle": "2022-11-23T14:15:58.898300Z",
     "shell.execute_reply": "2022-11-23T14:15:58.896500Z"
    },
    "papermill": {
     "duration": 0.041507,
     "end_time": "2022-11-23T14:15:58.901520",
     "exception": false,
     "start_time": "2022-11-23T14:15:58.860013",
     "status": "completed"
    },
    "tags": []
   },
   "outputs": [
    {
     "name": "stdout",
     "output_type": "stream",
     "text": [
      "<class 'pandas.core.frame.DataFrame'>\n",
      "RangeIndex: 569 entries, 0 to 568\n",
      "Data columns (total 33 columns):\n",
      " #   Column                   Non-Null Count  Dtype  \n",
      "---  ------                   --------------  -----  \n",
      " 0   id                       569 non-null    int64  \n",
      " 1   diagnosis                569 non-null    object \n",
      " 2   radius_mean              569 non-null    float64\n",
      " 3   texture_mean             569 non-null    float64\n",
      " 4   perimeter_mean           569 non-null    float64\n",
      " 5   area_mean                569 non-null    float64\n",
      " 6   smoothness_mean          569 non-null    float64\n",
      " 7   compactness_mean         569 non-null    float64\n",
      " 8   concavity_mean           569 non-null    float64\n",
      " 9   concave points_mean      569 non-null    float64\n",
      " 10  symmetry_mean            569 non-null    float64\n",
      " 11  fractal_dimension_mean   569 non-null    float64\n",
      " 12  radius_se                569 non-null    float64\n",
      " 13  texture_se               569 non-null    float64\n",
      " 14  perimeter_se             569 non-null    float64\n",
      " 15  area_se                  569 non-null    float64\n",
      " 16  smoothness_se            569 non-null    float64\n",
      " 17  compactness_se           569 non-null    float64\n",
      " 18  concavity_se             569 non-null    float64\n",
      " 19  concave points_se        569 non-null    float64\n",
      " 20  symmetry_se              569 non-null    float64\n",
      " 21  fractal_dimension_se     569 non-null    float64\n",
      " 22  radius_worst             569 non-null    float64\n",
      " 23  texture_worst            569 non-null    float64\n",
      " 24  perimeter_worst          569 non-null    float64\n",
      " 25  area_worst               569 non-null    float64\n",
      " 26  smoothness_worst         569 non-null    float64\n",
      " 27  compactness_worst        569 non-null    float64\n",
      " 28  concavity_worst          569 non-null    float64\n",
      " 29  concave points_worst     569 non-null    float64\n",
      " 30  symmetry_worst           569 non-null    float64\n",
      " 31  fractal_dimension_worst  569 non-null    float64\n",
      " 32  Unnamed: 32              0 non-null      float64\n",
      "dtypes: float64(31), int64(1), object(1)\n",
      "memory usage: 146.8+ KB\n"
     ]
    }
   ],
   "source": [
    "initial_data.info()"
   ]
  },
  {
   "cell_type": "code",
   "execution_count": 5,
   "id": "2c427437",
   "metadata": {
    "execution": {
     "iopub.execute_input": "2022-11-23T14:15:58.916410Z",
     "iopub.status.busy": "2022-11-23T14:15:58.915938Z",
     "iopub.status.idle": "2022-11-23T14:15:58.927626Z",
     "shell.execute_reply": "2022-11-23T14:15:58.926030Z"
    },
    "papermill": {
     "duration": 0.022212,
     "end_time": "2022-11-23T14:15:58.930178",
     "exception": false,
     "start_time": "2022-11-23T14:15:58.907966",
     "status": "completed"
    },
    "tags": []
   },
   "outputs": [
    {
     "data": {
      "text/plain": [
       "((569, 30), (569,), (569,))"
      ]
     },
     "execution_count": 5,
     "metadata": {},
     "output_type": "execute_result"
    }
   ],
   "source": [
    "ids=initial_data['id']\n",
    "y=initial_data['diagnosis']\n",
    "x=initial_data.drop(['id','diagnosis','Unnamed: 32'],axis=1)\n",
    "x.shape,y.shape,ids.shape"
   ]
  },
  {
   "cell_type": "code",
   "execution_count": 6,
   "id": "54693bda",
   "metadata": {
    "execution": {
     "iopub.execute_input": "2022-11-23T14:15:58.948692Z",
     "iopub.status.busy": "2022-11-23T14:15:58.948280Z",
     "iopub.status.idle": "2022-11-23T14:15:58.964226Z",
     "shell.execute_reply": "2022-11-23T14:15:58.963047Z"
    },
    "papermill": {
     "duration": 0.028345,
     "end_time": "2022-11-23T14:15:58.967386",
     "exception": false,
     "start_time": "2022-11-23T14:15:58.939041",
     "status": "completed"
    },
    "tags": []
   },
   "outputs": [
    {
     "name": "stdout",
     "output_type": "stream",
     "text": [
      "<class 'pandas.core.frame.DataFrame'>\n",
      "RangeIndex: 569 entries, 0 to 568\n",
      "Data columns (total 30 columns):\n",
      " #   Column                   Non-Null Count  Dtype  \n",
      "---  ------                   --------------  -----  \n",
      " 0   radius_mean              569 non-null    float64\n",
      " 1   texture_mean             569 non-null    float64\n",
      " 2   perimeter_mean           569 non-null    float64\n",
      " 3   area_mean                569 non-null    float64\n",
      " 4   smoothness_mean          569 non-null    float64\n",
      " 5   compactness_mean         569 non-null    float64\n",
      " 6   concavity_mean           569 non-null    float64\n",
      " 7   concave points_mean      569 non-null    float64\n",
      " 8   symmetry_mean            569 non-null    float64\n",
      " 9   fractal_dimension_mean   569 non-null    float64\n",
      " 10  radius_se                569 non-null    float64\n",
      " 11  texture_se               569 non-null    float64\n",
      " 12  perimeter_se             569 non-null    float64\n",
      " 13  area_se                  569 non-null    float64\n",
      " 14  smoothness_se            569 non-null    float64\n",
      " 15  compactness_se           569 non-null    float64\n",
      " 16  concavity_se             569 non-null    float64\n",
      " 17  concave points_se        569 non-null    float64\n",
      " 18  symmetry_se              569 non-null    float64\n",
      " 19  fractal_dimension_se     569 non-null    float64\n",
      " 20  radius_worst             569 non-null    float64\n",
      " 21  texture_worst            569 non-null    float64\n",
      " 22  perimeter_worst          569 non-null    float64\n",
      " 23  area_worst               569 non-null    float64\n",
      " 24  smoothness_worst         569 non-null    float64\n",
      " 25  compactness_worst        569 non-null    float64\n",
      " 26  concavity_worst          569 non-null    float64\n",
      " 27  concave points_worst     569 non-null    float64\n",
      " 28  symmetry_worst           569 non-null    float64\n",
      " 29  fractal_dimension_worst  569 non-null    float64\n",
      "dtypes: float64(30)\n",
      "memory usage: 133.5 KB\n"
     ]
    }
   ],
   "source": [
    "x.info()"
   ]
  },
  {
   "cell_type": "code",
   "execution_count": 7,
   "id": "d442c670",
   "metadata": {
    "execution": {
     "iopub.execute_input": "2022-11-23T14:15:58.989015Z",
     "iopub.status.busy": "2022-11-23T14:15:58.988572Z",
     "iopub.status.idle": "2022-11-23T14:15:58.998988Z",
     "shell.execute_reply": "2022-11-23T14:15:58.998110Z"
    },
    "papermill": {
     "duration": 0.023431,
     "end_time": "2022-11-23T14:15:59.001920",
     "exception": false,
     "start_time": "2022-11-23T14:15:58.978489",
     "status": "completed"
    },
    "tags": []
   },
   "outputs": [
    {
     "data": {
      "text/plain": [
       "radius_mean                0\n",
       "texture_mean               0\n",
       "perimeter_mean             0\n",
       "area_mean                  0\n",
       "smoothness_mean            0\n",
       "compactness_mean           0\n",
       "concavity_mean             0\n",
       "concave points_mean        0\n",
       "symmetry_mean              0\n",
       "fractal_dimension_mean     0\n",
       "radius_se                  0\n",
       "texture_se                 0\n",
       "perimeter_se               0\n",
       "area_se                    0\n",
       "smoothness_se              0\n",
       "compactness_se             0\n",
       "concavity_se               0\n",
       "concave points_se          0\n",
       "symmetry_se                0\n",
       "fractal_dimension_se       0\n",
       "radius_worst               0\n",
       "texture_worst              0\n",
       "perimeter_worst            0\n",
       "area_worst                 0\n",
       "smoothness_worst           0\n",
       "compactness_worst          0\n",
       "concavity_worst            0\n",
       "concave points_worst       0\n",
       "symmetry_worst             0\n",
       "fractal_dimension_worst    0\n",
       "dtype: int64"
      ]
     },
     "execution_count": 7,
     "metadata": {},
     "output_type": "execute_result"
    }
   ],
   "source": [
    "# 查看缺失数据\n",
    "x.isnull().sum()"
   ]
  },
  {
   "cell_type": "code",
   "execution_count": 8,
   "id": "937fefbe",
   "metadata": {
    "execution": {
     "iopub.execute_input": "2022-11-23T14:15:59.027805Z",
     "iopub.status.busy": "2022-11-23T14:15:59.026783Z",
     "iopub.status.idle": "2022-11-23T14:15:59.039089Z",
     "shell.execute_reply": "2022-11-23T14:15:59.037571Z"
    },
    "papermill": {
     "duration": 0.029182,
     "end_time": "2022-11-23T14:15:59.041912",
     "exception": false,
     "start_time": "2022-11-23T14:15:59.012730",
     "status": "completed"
    },
    "tags": []
   },
   "outputs": [
    {
     "data": {
      "text/plain": [
       "B    357\n",
       "M    212\n",
       "Name: diagnosis, dtype: int64"
      ]
     },
     "execution_count": 8,
     "metadata": {},
     "output_type": "execute_result"
    }
   ],
   "source": [
    "# 检查变量分布\n",
    "y.value_counts()"
   ]
  },
  {
   "cell_type": "markdown",
   "id": "c1874444",
   "metadata": {
    "papermill": {
     "duration": 0.006286,
     "end_time": "2022-11-23T14:15:59.055001",
     "exception": false,
     "start_time": "2022-11-23T14:15:59.048715",
     "status": "completed"
    },
    "tags": []
   },
   "source": [
    "我们看到该数据集的数据量较小，因此在为SVM模型选择核函数时要注意，高斯核函数过于复杂，应用在本数据集上可能会导致过拟合，在这里我们尝试使用二阶多项式核函数进行实验"
   ]
  },
  {
   "cell_type": "code",
   "execution_count": 9,
   "id": "0aec55cd",
   "metadata": {
    "execution": {
     "iopub.execute_input": "2022-11-23T14:15:59.071502Z",
     "iopub.status.busy": "2022-11-23T14:15:59.069880Z",
     "iopub.status.idle": "2022-11-23T14:16:00.465771Z",
     "shell.execute_reply": "2022-11-23T14:16:00.464292Z"
    },
    "papermill": {
     "duration": 1.40676,
     "end_time": "2022-11-23T14:16:00.468599",
     "exception": false,
     "start_time": "2022-11-23T14:15:59.061839",
     "status": "completed"
    },
    "tags": []
   },
   "outputs": [],
   "source": [
    "from sklearn.svm import SVC\n",
    "from sklearn.preprocessing import MinMaxScaler\n",
    "from sklearn.model_selection import train_test_split"
   ]
  },
  {
   "cell_type": "markdown",
   "id": "2b155adb",
   "metadata": {
    "papermill": {
     "duration": 0.006416,
     "end_time": "2022-11-23T14:16:00.481461",
     "exception": false,
     "start_time": "2022-11-23T14:16:00.475045",
     "status": "completed"
    },
    "tags": []
   },
   "source": [
    "我们先尝试对数据进行一下标准化（尽管不对数据进行标准化最终得到的结果也比较好，我们在这里仅仅做一个尝试）"
   ]
  },
  {
   "cell_type": "code",
   "execution_count": 10,
   "id": "93d4f360",
   "metadata": {
    "execution": {
     "iopub.execute_input": "2022-11-23T14:16:00.496011Z",
     "iopub.status.busy": "2022-11-23T14:16:00.495539Z",
     "iopub.status.idle": "2022-11-23T14:16:00.511622Z",
     "shell.execute_reply": "2022-11-23T14:16:00.510441Z"
    },
    "papermill": {
     "duration": 0.026523,
     "end_time": "2022-11-23T14:16:00.514156",
     "exception": false,
     "start_time": "2022-11-23T14:16:00.487633",
     "status": "completed"
    },
    "tags": []
   },
   "outputs": [
    {
     "data": {
      "text/plain": [
       "array([[0.52103744, 0.0226581 , 0.54598853, 0.36373277, 0.59375282,\n",
       "        0.7920373 , 0.70313964, 0.73111332, 0.68636364, 0.60551811,\n",
       "        0.35614702, 0.12046941, 0.3690336 , 0.27381126, 0.15929565,\n",
       "        0.35139844, 0.13568182, 0.30062512, 0.31164518, 0.18304244,\n",
       "        0.62077552, 0.14152452, 0.66831017, 0.45069799, 0.60113584,\n",
       "        0.61929156, 0.56861022, 0.91202749, 0.59846245, 0.41886396],\n",
       "       [0.64314449, 0.27257355, 0.61578329, 0.50159067, 0.28987993,\n",
       "        0.18176799, 0.20360825, 0.34875746, 0.37979798, 0.14132266,\n",
       "        0.15643672, 0.08258929, 0.12444047, 0.12565979, 0.11938675,\n",
       "        0.08132304, 0.0469697 , 0.25383595, 0.08453875, 0.0911101 ,\n",
       "        0.60690146, 0.30357143, 0.53981772, 0.43521431, 0.34755332,\n",
       "        0.15456336, 0.19297125, 0.63917526, 0.23358959, 0.22287813],\n",
       "       [0.60149557, 0.3902604 , 0.59574321, 0.44941676, 0.51430893,\n",
       "        0.4310165 , 0.46251172, 0.63568588, 0.50959596, 0.21124684,\n",
       "        0.22962158, 0.09430251, 0.18037035, 0.16292179, 0.15083115,\n",
       "        0.2839547 , 0.09676768, 0.38984656, 0.20569032, 0.12700551,\n",
       "        0.55638563, 0.36007463, 0.50844166, 0.37450845, 0.48358978,\n",
       "        0.38537513, 0.35974441, 0.83505155, 0.40370589, 0.21343303],\n",
       "       [0.2100904 , 0.36083869, 0.23350149, 0.10290562, 0.81132075,\n",
       "        0.81136127, 0.5656045 , 0.52286282, 0.77626263, 1.        ,\n",
       "        0.13909107, 0.17587518, 0.12665504, 0.03815479, 0.25145324,\n",
       "        0.54321507, 0.14295455, 0.35366547, 0.72814769, 0.28720479,\n",
       "        0.24831021, 0.38592751, 0.24134668, 0.09400806, 0.9154725 ,\n",
       "        0.8140117 , 0.54864217, 0.88487973, 1.        , 0.77371114],\n",
       "       [0.62989256, 0.15657761, 0.63098611, 0.4892895 , 0.43035118,\n",
       "        0.34789277, 0.46391753, 0.51838966, 0.37828283, 0.1868155 ,\n",
       "        0.2338222 , 0.09306489, 0.2205626 , 0.16368757, 0.33235884,\n",
       "        0.16791841, 0.14363636, 0.3570752 , 0.13617943, 0.14579965,\n",
       "        0.51974386, 0.1239339 , 0.50694756, 0.34157491, 0.4373638 ,\n",
       "        0.17241513, 0.31948882, 0.55841924, 0.15750049, 0.14259478]])"
      ]
     },
     "execution_count": 10,
     "metadata": {},
     "output_type": "execute_result"
    }
   ],
   "source": [
    "scaler=MinMaxScaler()\n",
    "x_scaler=scaler.fit_transform(x)\n",
    "x_scaler[:5]"
   ]
  },
  {
   "cell_type": "markdown",
   "id": "19f18b01",
   "metadata": {
    "papermill": {
     "duration": 0.005962,
     "end_time": "2022-11-23T14:16:00.526492",
     "exception": false,
     "start_time": "2022-11-23T14:16:00.520530",
     "status": "completed"
    },
    "tags": []
   },
   "source": [
    "差点忘记了，还没有将标签值转换为数值型数据"
   ]
  },
  {
   "cell_type": "code",
   "execution_count": 11,
   "id": "3e9c4ddf",
   "metadata": {
    "execution": {
     "iopub.execute_input": "2022-11-23T14:16:00.541098Z",
     "iopub.status.busy": "2022-11-23T14:16:00.540627Z",
     "iopub.status.idle": "2022-11-23T14:16:00.549784Z",
     "shell.execute_reply": "2022-11-23T14:16:00.548173Z"
    },
    "papermill": {
     "duration": 0.019404,
     "end_time": "2022-11-23T14:16:00.552183",
     "exception": false,
     "start_time": "2022-11-23T14:16:00.532779",
     "status": "completed"
    },
    "tags": []
   },
   "outputs": [
    {
     "data": {
      "text/plain": [
       "(1, 569)"
      ]
     },
     "execution_count": 11,
     "metadata": {},
     "output_type": "execute_result"
    }
   ],
   "source": [
    "y=np.array([y=='B']).astype('int')\n",
    "y.shape"
   ]
  },
  {
   "cell_type": "markdown",
   "id": "10e97196",
   "metadata": {
    "papermill": {
     "duration": 0.006097,
     "end_time": "2022-11-23T14:16:00.564727",
     "exception": false,
     "start_time": "2022-11-23T14:16:00.558630",
     "status": "completed"
    },
    "tags": []
   },
   "source": [
    "M:malignant    0\n",
    "B:benign       1"
   ]
  },
  {
   "cell_type": "code",
   "execution_count": 12,
   "id": "e2666c5a",
   "metadata": {
    "execution": {
     "iopub.execute_input": "2022-11-23T14:16:00.579642Z",
     "iopub.status.busy": "2022-11-23T14:16:00.579147Z",
     "iopub.status.idle": "2022-11-23T14:16:00.585513Z",
     "shell.execute_reply": "2022-11-23T14:16:00.584261Z"
    },
    "papermill": {
     "duration": 0.017619,
     "end_time": "2022-11-23T14:16:00.588648",
     "exception": false,
     "start_time": "2022-11-23T14:16:00.571029",
     "status": "completed"
    },
    "tags": []
   },
   "outputs": [],
   "source": [
    "y=y.reshape((569,))"
   ]
  },
  {
   "cell_type": "markdown",
   "id": "67a0841f",
   "metadata": {
    "papermill": {
     "duration": 0.008037,
     "end_time": "2022-11-23T14:16:00.605726",
     "exception": false,
     "start_time": "2022-11-23T14:16:00.597689",
     "status": "completed"
    },
    "tags": []
   },
   "source": [
    "接下来我们对数据进行分割，得到训练集和测试集"
   ]
  },
  {
   "cell_type": "code",
   "execution_count": 13,
   "id": "84a0452f",
   "metadata": {
    "execution": {
     "iopub.execute_input": "2022-11-23T14:16:00.623001Z",
     "iopub.status.busy": "2022-11-23T14:16:00.622544Z",
     "iopub.status.idle": "2022-11-23T14:16:00.633786Z",
     "shell.execute_reply": "2022-11-23T14:16:00.632181Z"
    },
    "papermill": {
     "duration": 0.0255,
     "end_time": "2022-11-23T14:16:00.639005",
     "exception": false,
     "start_time": "2022-11-23T14:16:00.613505",
     "status": "completed"
    },
    "tags": []
   },
   "outputs": [
    {
     "data": {
      "text/plain": [
       "((455, 30), (455,), (114, 30), (114,))"
      ]
     },
     "execution_count": 13,
     "metadata": {},
     "output_type": "execute_result"
    }
   ],
   "source": [
    "x_train,x_test,y_train,y_test=train_test_split(x_scaler,y,test_size=0.2)\n",
    "x_train.shape,y_train.shape,x_test.shape,y_test.shape"
   ]
  },
  {
   "cell_type": "code",
   "execution_count": 14,
   "id": "32372d30",
   "metadata": {
    "execution": {
     "iopub.execute_input": "2022-11-23T14:16:00.661796Z",
     "iopub.status.busy": "2022-11-23T14:16:00.661138Z",
     "iopub.status.idle": "2022-11-23T14:16:00.684424Z",
     "shell.execute_reply": "2022-11-23T14:16:00.683062Z"
    },
    "papermill": {
     "duration": 0.037847,
     "end_time": "2022-11-23T14:16:00.687859",
     "exception": false,
     "start_time": "2022-11-23T14:16:00.650012",
     "status": "completed"
    },
    "tags": []
   },
   "outputs": [
    {
     "data": {
      "text/plain": [
       "(0.9802197802197802, 0.9912280701754386)"
      ]
     },
     "execution_count": 14,
     "metadata": {},
     "output_type": "execute_result"
    }
   ],
   "source": [
    "# 建立模型\n",
    "model=SVC(C=1.0,kernel='poly',degree=2)\n",
    "model.fit(x_train,y_train)\n",
    "train_score=model.score(x_train,y_train)\n",
    "test_score=model.score(x_test,y_test)\n",
    "train_score,test_score"
   ]
  },
  {
   "cell_type": "markdown",
   "id": "91295c1a",
   "metadata": {
    "papermill": {
     "duration": 0.011002,
     "end_time": "2022-11-23T14:16:00.707610",
     "exception": false,
     "start_time": "2022-11-23T14:16:00.696608",
     "status": "completed"
    },
    "tags": []
   },
   "source": [
    "从模型得分来看，还算比较成功，笔者认为这很大程度上得益于该数据集本身，数据集的提供者替我们做了大量的数据清洗工作，这让我们在工作中没有花费太多的篇幅用在处理数据上，但实际上很多数据集都是很复杂的，因此我们应该更重视如何更好的处理数据，加油！！！"
   ]
  },
  {
   "cell_type": "code",
   "execution_count": null,
   "id": "848cce3d",
   "metadata": {
    "papermill": {
     "duration": 0.007534,
     "end_time": "2022-11-23T14:16:00.723504",
     "exception": false,
     "start_time": "2022-11-23T14:16:00.715970",
     "status": "completed"
    },
    "tags": []
   },
   "outputs": [],
   "source": []
  }
 ],
 "metadata": {
  "kernelspec": {
   "display_name": "Python 3",
   "language": "python",
   "name": "python3"
  },
  "language_info": {
   "codemirror_mode": {
    "name": "ipython",
    "version": 3
   },
   "file_extension": ".py",
   "mimetype": "text/x-python",
   "name": "python",
   "nbconvert_exporter": "python",
   "pygments_lexer": "ipython3",
   "version": "3.7.12"
  },
  "papermill": {
   "default_parameters": {},
   "duration": 11.945586,
   "end_time": "2022-11-23T14:16:01.655541",
   "environment_variables": {},
   "exception": null,
   "input_path": "__notebook__.ipynb",
   "output_path": "__notebook__.ipynb",
   "parameters": {},
   "start_time": "2022-11-23T14:15:49.709955",
   "version": "2.3.4"
  }
 },
 "nbformat": 4,
 "nbformat_minor": 5
}
